{
 "cells": [
  {
   "cell_type": "code",
   "execution_count": 1,
   "id": "53c863e1-41aa-4ed2-ac79-6e0f4f7612f7",
   "metadata": {},
   "outputs": [],
   "source": [
    "import pandas as pd\n",
    "import pickle"
   ]
  },
  {
   "cell_type": "code",
   "execution_count": 3,
   "id": "9f4059c0-a4cf-4417-ada1-b77a5a2b8816",
   "metadata": {},
   "outputs": [],
   "source": [
    "dist_pickle = '../data/pickled/distance_df.pickle'\n",
    "with open(dist_pickle, 'rb') as file:\n",
    "    dist_df = pickle.load(file)"
   ]
  },
  {
   "cell_type": "code",
   "execution_count": 7,
   "id": "9cad2e6a-40d5-4870-a504-c918ebb0f0f7",
   "metadata": {},
   "outputs": [
    {
     "data": {
      "text/html": [
       "<div>\n",
       "<style scoped>\n",
       "    .dataframe tbody tr th:only-of-type {\n",
       "        vertical-align: middle;\n",
       "    }\n",
       "\n",
       "    .dataframe tbody tr th {\n",
       "        vertical-align: top;\n",
       "    }\n",
       "\n",
       "    .dataframe thead th {\n",
       "        text-align: right;\n",
       "    }\n",
       "</style>\n",
       "<table border=\"1\" class=\"dataframe\">\n",
       "  <thead>\n",
       "    <tr style=\"text-align: right;\">\n",
       "      <th></th>\n",
       "      <th>Origin</th>\n",
       "      <th>Destination</th>\n",
       "      <th>Distance_meters</th>\n",
       "      <th>Duration_seconds</th>\n",
       "      <th>Distance_miles</th>\n",
       "    </tr>\n",
       "  </thead>\n",
       "  <tbody>\n",
       "    <tr>\n",
       "      <th>0</th>\n",
       "      <td>Abilene, TX</td>\n",
       "      <td>Akron, OH</td>\n",
       "      <td>2137508.0</td>\n",
       "      <td>69643.0</td>\n",
       "      <td>1328.185483</td>\n",
       "    </tr>\n",
       "    <tr>\n",
       "      <th>1</th>\n",
       "      <td>Abilene, TX</td>\n",
       "      <td>Albany, GA</td>\n",
       "      <td>1582948.0</td>\n",
       "      <td>54532.0</td>\n",
       "      <td>983.597982</td>\n",
       "    </tr>\n",
       "    <tr>\n",
       "      <th>2</th>\n",
       "      <td>Abilene, TX</td>\n",
       "      <td>Albany, OR</td>\n",
       "      <td>3077199.0</td>\n",
       "      <td>104836.0</td>\n",
       "      <td>1912.082220</td>\n",
       "    </tr>\n",
       "    <tr>\n",
       "      <th>3</th>\n",
       "      <td>Abilene, TX</td>\n",
       "      <td>Albany, NY</td>\n",
       "      <td>2917051.0</td>\n",
       "      <td>94703.0</td>\n",
       "      <td>1812.570897</td>\n",
       "    </tr>\n",
       "    <tr>\n",
       "      <th>4</th>\n",
       "      <td>Abilene, TX</td>\n",
       "      <td>Albuquerque, NM</td>\n",
       "      <td>783883.0</td>\n",
       "      <td>26964.0</td>\n",
       "      <td>487.082164</td>\n",
       "    </tr>\n",
       "  </tbody>\n",
       "</table>\n",
       "</div>"
      ],
      "text/plain": [
       "        Origin      Destination  Distance_meters  Duration_seconds  \\\n",
       "0  Abilene, TX        Akron, OH        2137508.0           69643.0   \n",
       "1  Abilene, TX       Albany, GA        1582948.0           54532.0   \n",
       "2  Abilene, TX       Albany, OR        3077199.0          104836.0   \n",
       "3  Abilene, TX       Albany, NY        2917051.0           94703.0   \n",
       "4  Abilene, TX  Albuquerque, NM         783883.0           26964.0   \n",
       "\n",
       "   Distance_miles  \n",
       "0     1328.185483  \n",
       "1      983.597982  \n",
       "2     1912.082220  \n",
       "3     1812.570897  \n",
       "4      487.082164  "
      ]
     },
     "execution_count": 7,
     "metadata": {},
     "output_type": "execute_result"
    }
   ],
   "source": [
    "dist_df.head()"
   ]
  },
  {
   "cell_type": "code",
   "execution_count": null,
   "id": "d571f936-36d7-493c-8414-d471ac7013d7",
   "metadata": {},
   "outputs": [],
   "source": []
  }
 ],
 "metadata": {
  "kernelspec": {
   "display_name": "Python 3 (ipykernel)",
   "language": "python",
   "name": "python3"
  },
  "language_info": {
   "codemirror_mode": {
    "name": "ipython",
    "version": 3
   },
   "file_extension": ".py",
   "mimetype": "text/x-python",
   "name": "python",
   "nbconvert_exporter": "python",
   "pygments_lexer": "ipython3",
   "version": "3.9.19"
  }
 },
 "nbformat": 4,
 "nbformat_minor": 5
}
